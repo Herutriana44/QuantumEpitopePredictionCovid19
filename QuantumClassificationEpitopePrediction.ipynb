{
  "cells": [
    {
      "cell_type": "markdown",
      "metadata": {
        "id": "abWZ4DK13mQI"
      },
      "source": [
        "# Algoritma Klasifikasi Char 1"
      ]
    },
    {
      "cell_type": "code",
      "execution_count": 1,
      "metadata": {
        "colab": {
          "base_uri": "https://localhost:8080/"
        },
        "id": "hGxpiZ0wP0dw",
        "outputId": "afa1aa77-8843-4d0c-c3d1-6b61c6bb2b4d"
      },
      "outputs": [
        {
          "name": "stderr",
          "output_type": "stream",
          "text": [
            "C:\\Users\\herutriana44\\AppData\\Local\\Temp\\ipykernel_3672\\3206925063.py:4: DeprecationWarning: ``qiskit.algorithms`` has been migrated to an independent package: https://github.com/qiskit-community/qiskit-algorithms. The ``qiskit.algorithms`` import path is deprecated as of qiskit-terra 0.25.0 and will be removed no earlier than 3 months after the release date. Please run ``pip install qiskit_algorithms`` and use ``import qiskit_algorithms`` instead.\n",
            "  from qiskit.algorithms.optimizers import COBYLA\n"
          ]
        }
      ],
      "source": [
        "import pickle\n",
        "from sklearn.metrics import accuracy_score, roc_auc_score\n",
        "import pandas as pd\n",
        "from qiskit.algorithms.optimizers import COBYLA\n",
        "from qiskit.circuit.library import TwoLocal, ZZFeatureMap\n",
        "from qiskit.utils import algorithm_globals\n",
        "\n",
        "from qiskit_machine_learning.algorithms import VQC, PegasosQSVC, NeuralNetworkClassifier, QSVC\n",
        "from qiskit_machine_learning.datasets import ad_hoc_data\n",
        "\n",
        "from qiskit.circuit.library import ZZFeatureMap\n",
        "from qiskit_machine_learning.neural_networks import TwoLayerQNN\n",
        "from qiskit_machine_learning.algorithms import NeuralNetworkClassifier\n",
        "\n",
        "from qiskit import Aer\n",
        "from qiskit.utils import QuantumInstance\n",
        "# from qiskit.aqua import QuantumInstance\n",
        "\n",
        "import numpy as np\n",
        "from sklearn.preprocessing import label_binarize\n",
        "from sklearn.model_selection import train_test_split\n",
        "\n",
        "import matplotlib.pyplot as plt\n",
        "import numpy as np\n",
        "from IPython.display import clear_output\n",
        "from qiskit import QuantumCircuit\n",
        "from qiskit.algorithms.optimizers import COBYLA, L_BFGS_B\n",
        "from qiskit.circuit import Parameter\n",
        "from qiskit.circuit.library import RealAmplitudes, ZZFeatureMap\n",
        "from qiskit.utils import algorithm_globals\n",
        "\n",
        "from qiskit_machine_learning.algorithms.classifiers import NeuralNetworkClassifier, VQC\n",
        "from qiskit_machine_learning.algorithms.regressors import NeuralNetworkRegressor, VQR\n",
        "from qiskit_machine_learning.neural_networks import SamplerQNN, EstimatorQNN\n",
        "\n",
        "algorithm_globals.random_seed = 42\n",
        "\n",
        "def train_vqc(df, features, label, test_size=0.2, random_state=42):\n",
        "    X = df[features].values\n",
        "    y = label_binarize(df[label], classes=df[label].unique())\n",
        "\n",
        "    X_train, X_test, y_train, y_test = train_test_split(X, y, test_size=test_size, random_state=random_state)\n",
        "\n",
        "    feature_map = ZZFeatureMap(feature_dimension=len(features), reps=2, entanglement=\"linear\")\n",
        "    ansatz = TwoLocal(feature_map.num_qubits, [\"ry\", \"rz\"], \"cz\", reps=3)\n",
        "    vqc = VQC(\n",
        "        feature_map=feature_map,\n",
        "        ansatz=ansatz,\n",
        "        optimizer=COBYLA(maxiter=100),\n",
        "    )\n",
        "    vqc.fit(X_train, y_train)\n",
        "    vqc_score = vqc.score(X_test, y_test)\n",
        "    vqc.save('vqc_model')\n",
        "    # with open('vqc_model.pkl', 'wb') as model_file:\n",
        "    #     pickle.dump(vqc, model_file)\n",
        "    return vqc_score, roc_auc_score(y_test, vqc.predict(X_test))\n",
        "\n",
        "def train_pegasos_svc(df, features, label, test_size=0.2, random_state=42):\n",
        "    X = df[features].values\n",
        "    y = df[label].apply(lambda x: 1 if x == 'E' else -1)\n",
        "\n",
        "    # Make it binary by considering 'E' as positive and others as negative\n",
        "    y_binary = np.where(y == 1, 1, -1)\n",
        "\n",
        "    X_train, X_test, y_train, y_test = train_test_split(X, y_binary, test_size=test_size, random_state=random_state)\n",
        "\n",
        "    pegasos_svc = PegasosQSVC()\n",
        "    pegasos_svc.fit(X_train, y_train)\n",
        "    pegasos_svc_score = pegasos_svc.score(X_test, y_test)\n",
        "    pegasos_svc.save('pegasos_svc_model')\n",
        "    return pegasos_svc_score, roc_auc_score(y_test, pegasos_svc.predict(X_test))\n",
        "\n",
        "def train_qsvc(df, features, label, test_size=0.2, random_state=42):\n",
        "    X = df[features].values\n",
        "    y = df[label].apply(lambda x: 1 if x == 'E' else -1)\n",
        "\n",
        "    # Make it binary by considering 'E' as positive and others as negative\n",
        "    y_binary = np.where(y == 1, 1, -1)\n",
        "\n",
        "    X_train, X_test, y_train, y_test = train_test_split(X, y_binary, test_size=test_size, random_state=random_state)\n",
        "\n",
        "    qsvc = QSVC()\n",
        "    qsvc.fit(X_train, y_train)\n",
        "    qsvc_score = qsvc.score(X_test, y_test)\n",
        "    qsvc.save('qsvc_model')\n",
        "    return qsvc_score, roc_auc_score(y_test, qsvc.predict(X_test))\n",
        "\n"
      ]
    },
    {
      "cell_type": "markdown",
      "metadata": {
        "id": "m9I25x-w3mQZ"
      },
      "source": [
        "# Penerapan"
      ]
    },
    {
      "cell_type": "code",
      "execution_count": 2,
      "metadata": {
        "id": "5hIXMg1o3mQa"
      },
      "outputs": [],
      "source": [
        "import pandas as pd"
      ]
    },
    {
      "cell_type": "code",
      "execution_count": 3,
      "metadata": {},
      "outputs": [],
      "source": [
        "from sklearn.utils import resample\n",
        "\n",
        "def count_value_frequency(df, column):\n",
        "    value_counts = df[column].value_counts()\n",
        "    return value_counts\n",
        "\n",
        "def balance_dataset(df, target_column):\n",
        "    # Menghitung frekuensi nilai pada kolom target\n",
        "    value_counts = count_value_frequency(df, target_column)\n",
        "\n",
        "    # Menentukan jumlah minimum frekuensi nilai\n",
        "    min_frequency = value_counts.min()\n",
        "\n",
        "    # Melakukan resampling untuk setiap nilai dalam kolom target\n",
        "    balanced_data = pd.DataFrame()\n",
        "    for value in value_counts.index:\n",
        "        # Mengambil subset data dengan nilai tertentu\n",
        "        subset = df[df[target_column] == value]\n",
        "\n",
        "        # Melakukan resampling dengan jumlah minimum frekuensi\n",
        "        subset_resampled = resample(subset, replace=True, n_samples=min_frequency, random_state=42)\n",
        "\n",
        "        # Menggabungkan subset resampled ke dalam dataset seimbang\n",
        "        balanced_data = pd.concat([balanced_data, subset_resampled])\n",
        "\n",
        "    return balanced_data"
      ]
    },
    {
      "cell_type": "code",
      "execution_count": 4,
      "metadata": {},
      "outputs": [],
      "source": [
        "import numpy as np\n",
        "\n",
        "def divide_dataset_by_float(df, float_value):\n",
        "    num_samples = int(len(df) * float_value)\n",
        "    return df.head(num_samples)\n",
        "\n",
        "def divide_balanced_dataset(balanced_df, target_column, float_value):\n",
        "    # Menghitung frekuensi nilai pada kolom target\n",
        "    value_counts = count_value_frequency(balanced_df, target_column)\n",
        "\n",
        "    # Menentukan jumlah dataset setelah dibagi sesuai float value\n",
        "    divided_data = pd.DataFrame()\n",
        "    for value in value_counts.index:\n",
        "        # Mengambil subset data dengan nilai tertentu\n",
        "        subset = balanced_df[balanced_df[target_column] == value]\n",
        "\n",
        "        # Menghitung jumlah dataset setelah dibagi sesuai float value\n",
        "        num_samples = int(len(subset) * float_value)\n",
        "        \n",
        "        # Memilih sebagian dari subset sesuai dengan float value\n",
        "        subset_divided = subset.head(num_samples)\n",
        "        \n",
        "        # Menggabungkan subset yang sudah dibagi ke dalam dataset hasil\n",
        "        divided_data = pd.concat([divided_data, subset_divided])\n",
        "\n",
        "    return divided_data\n"
      ]
    },
    {
      "cell_type": "code",
      "execution_count": 5,
      "metadata": {
        "id": "3pt43B6D3mQb"
      },
      "outputs": [],
      "source": [
        "df1 = pd.read_csv('Bdataset_type_2_vers2_hidropobicity_covid.csv')\n",
        "df1 = df1.dropna(subset=[\"Position\"])\n",
        "\n",
        "# df2 = pd.read_csv(out_dir+'dataset/Tdataset_type_2_vers2_hidropobicity.csv')"
      ]
    },
    {
      "cell_type": "code",
      "execution_count": 6,
      "metadata": {},
      "outputs": [
        {
          "name": "stdout",
          "output_type": "stream",
          "text": [
            "120796\n",
            "225436\n"
          ]
        }
      ],
      "source": [
        "print(len(df1[df1['label'] == 'E']))\n",
        "print(len(df1[df1['label'] == '.']))"
      ]
    },
    {
      "cell_type": "code",
      "execution_count": 7,
      "metadata": {},
      "outputs": [
        {
          "data": {
            "text/plain": [
              "36.2388"
            ]
          },
          "execution_count": 7,
          "metadata": {},
          "output_type": "execute_result"
        }
      ],
      "source": [
        "120796*0.0003"
      ]
    },
    {
      "cell_type": "code",
      "execution_count": 7,
      "metadata": {},
      "outputs": [],
      "source": [
        "df1 = balance_dataset(df1, 'label')\n",
        "float_value = 0.0003 # Misalnya, kita ingin membagi setiap kelompok menjadi setengahnya\n",
        "\n",
        "# Membagi dataset seimbang sesuai float value\n",
        "df1 = divide_balanced_dataset(df1, 'label', float_value)\n",
        "df1 = df1.reset_index()"
      ]
    },
    {
      "cell_type": "code",
      "execution_count": 9,
      "metadata": {},
      "outputs": [
        {
          "name": "stdout",
          "output_type": "stream",
          "text": [
            "36\n",
            "36\n"
          ]
        }
      ],
      "source": [
        "print(len(df1[df1['label'] == 'E']))\n",
        "print(len(df1[df1['label'] == '.']))"
      ]
    },
    {
      "cell_type": "code",
      "execution_count": 10,
      "metadata": {
        "colab": {
          "base_uri": "https://localhost:8080/",
          "height": 206
        },
        "id": "XJJ-Wr3PXLD4",
        "outputId": "3df467a2-c32a-4d71-9420-cd141215c559"
      },
      "outputs": [
        {
          "data": {
            "text/html": [
              "<div>\n",
              "<style scoped>\n",
              "    .dataframe tbody tr th:only-of-type {\n",
              "        vertical-align: middle;\n",
              "    }\n",
              "\n",
              "    .dataframe tbody tr th {\n",
              "        vertical-align: top;\n",
              "    }\n",
              "\n",
              "    .dataframe thead th {\n",
              "        text-align: right;\n",
              "    }\n",
              "</style>\n",
              "<table border=\"1\" class=\"dataframe\">\n",
              "  <thead>\n",
              "    <tr style=\"text-align: right;\">\n",
              "      <th></th>\n",
              "      <th>index</th>\n",
              "      <th>Position</th>\n",
              "      <th>amino</th>\n",
              "      <th>length sequence</th>\n",
              "      <th>label</th>\n",
              "      <th>Kyte-Doolittle</th>\n",
              "      <th>Hopp-Woods</th>\n",
              "      <th>Cornette</th>\n",
              "      <th>Eisenberg</th>\n",
              "      <th>Rose</th>\n",
              "      <th>Janin</th>\n",
              "      <th>Engelman GES</th>\n",
              "      <th>amino acid to number</th>\n",
              "    </tr>\n",
              "  </thead>\n",
              "  <tbody>\n",
              "    <tr>\n",
              "      <th>0</th>\n",
              "      <td>187565</td>\n",
              "      <td>5159.0</td>\n",
              "      <td>N</td>\n",
              "      <td>15</td>\n",
              "      <td>.</td>\n",
              "      <td>-3.5</td>\n",
              "      <td>0.2</td>\n",
              "      <td>-0.5</td>\n",
              "      <td>-0.78</td>\n",
              "      <td>0.63</td>\n",
              "      <td>-0.5</td>\n",
              "      <td>-4.8</td>\n",
              "      <td>3</td>\n",
              "    </tr>\n",
              "    <tr>\n",
              "      <th>1</th>\n",
              "      <td>225525</td>\n",
              "      <td>378.0</td>\n",
              "      <td>K</td>\n",
              "      <td>20</td>\n",
              "      <td>.</td>\n",
              "      <td>-3.9</td>\n",
              "      <td>3.0</td>\n",
              "      <td>-3.1</td>\n",
              "      <td>-1.50</td>\n",
              "      <td>0.52</td>\n",
              "      <td>-1.8</td>\n",
              "      <td>-8.8</td>\n",
              "      <td>12</td>\n",
              "    </tr>\n",
              "    <tr>\n",
              "      <th>2</th>\n",
              "      <td>203167</td>\n",
              "      <td>1028.0</td>\n",
              "      <td>F</td>\n",
              "      <td>15</td>\n",
              "      <td>.</td>\n",
              "      <td>2.8</td>\n",
              "      <td>-2.5</td>\n",
              "      <td>4.4</td>\n",
              "      <td>1.19</td>\n",
              "      <td>0.88</td>\n",
              "      <td>0.5</td>\n",
              "      <td>3.7</td>\n",
              "      <td>14</td>\n",
              "    </tr>\n",
              "    <tr>\n",
              "      <th>3</th>\n",
              "      <td>159578</td>\n",
              "      <td>120.0</td>\n",
              "      <td>V</td>\n",
              "      <td>16</td>\n",
              "      <td>.</td>\n",
              "      <td>4.2</td>\n",
              "      <td>-1.5</td>\n",
              "      <td>4.7</td>\n",
              "      <td>1.08</td>\n",
              "      <td>0.86</td>\n",
              "      <td>0.6</td>\n",
              "      <td>2.6</td>\n",
              "      <td>20</td>\n",
              "    </tr>\n",
              "    <tr>\n",
              "      <th>4</th>\n",
              "      <td>184505</td>\n",
              "      <td>888.0</td>\n",
              "      <td>F</td>\n",
              "      <td>15</td>\n",
              "      <td>.</td>\n",
              "      <td>2.8</td>\n",
              "      <td>-2.5</td>\n",
              "      <td>4.4</td>\n",
              "      <td>1.19</td>\n",
              "      <td>0.88</td>\n",
              "      <td>0.5</td>\n",
              "      <td>3.7</td>\n",
              "      <td>14</td>\n",
              "    </tr>\n",
              "  </tbody>\n",
              "</table>\n",
              "</div>"
            ],
            "text/plain": [
              "    index  Position amino  length sequence label  Kyte-Doolittle  Hopp-Woods  \\\n",
              "0  187565    5159.0     N               15     .            -3.5         0.2   \n",
              "1  225525     378.0     K               20     .            -3.9         3.0   \n",
              "2  203167    1028.0     F               15     .             2.8        -2.5   \n",
              "3  159578     120.0     V               16     .             4.2        -1.5   \n",
              "4  184505     888.0     F               15     .             2.8        -2.5   \n",
              "\n",
              "   Cornette  Eisenberg  Rose  Janin  Engelman GES  amino acid to number  \n",
              "0      -0.5      -0.78  0.63   -0.5          -4.8                     3  \n",
              "1      -3.1      -1.50  0.52   -1.8          -8.8                    12  \n",
              "2       4.4       1.19  0.88    0.5           3.7                    14  \n",
              "3       4.7       1.08  0.86    0.6           2.6                    20  \n",
              "4       4.4       1.19  0.88    0.5           3.7                    14  "
            ]
          },
          "execution_count": 10,
          "metadata": {},
          "output_type": "execute_result"
        }
      ],
      "source": [
        "df1.head()"
      ]
    },
    {
      "cell_type": "code",
      "execution_count": 11,
      "metadata": {
        "id": "FLdt8HjD3mQd"
      },
      "outputs": [],
      "source": [
        "# dtest = pd.DataFrame()\n",
        "# mod = ['vqc','pegasos_svc','qsvc']\n",
        "# #prop_scale = ['hoop_woods','emini','parker','levitt']\n",
        "# prop_scale = ['Kyte-Doolittle', 'Hopp-Woods', 'Cornette', 'Eisenberg', 'Rose', 'Janin', 'Engelman GES']\n",
        "# dt_test = [0.1,0.2,0.3]\n",
        "# mod4x = mod*len(prop_scale)\n",
        "# prop_scale6x = prop_scale*len(mod)\n",
        "# dtest['algoritm'] = mod4x\n",
        "# dtest['prop_scale'] = prop_scale6x\n",
        "# dtest['accuracy'] = 0.0\n",
        "# dtest['auc'] = 0.0\n",
        "# dtest['n_amino_acids'] = 1\n",
        "# dtest['test_size'] = 0.0\n",
        "# dtest = pd.concat([dtest,dtest,dtest])\n",
        "# dtest = dtest.reset_index(drop=True)\n",
        "# #dtest = dtest.sample(frac=1).reset_index(drop=True)\n",
        "# for i in mod:\n",
        "#     dtest.loc[dtest['algoritm'] == i, 'test_size'] = int(len(dtest[dtest['algoritm'] == i])/len(dt_test))*dt_test\n",
        "\n",
        "# dtest.to_csv('result_of_quantum_classification_covid.csv', index=False)"
      ]
    },
    {
      "cell_type": "code",
      "execution_count": 17,
      "metadata": {
        "colab": {
          "base_uri": "https://localhost:8080/"
        },
        "id": "i6qrUJFn3mQe",
        "outputId": "af855f1d-e71d-4145-c28e-7226b4485c00"
      },
      "outputs": [
        {
          "data": {
            "text/plain": [
              "63"
            ]
          },
          "execution_count": 17,
          "metadata": {},
          "output_type": "execute_result"
        }
      ],
      "source": [
        "# len(dtest)"
      ]
    },
    {
      "cell_type": "markdown",
      "metadata": {
        "id": "SCFvFxOx3mQf"
      },
      "source": [
        "# Penerapan Char 1"
      ]
    },
    {
      "cell_type": "code",
      "execution_count": 8,
      "metadata": {
        "id": "-GsZW-je3mQg"
      },
      "outputs": [],
      "source": [
        "dtest = pd.read_csv('result_of_quantum_classification_covid.csv')"
      ]
    },
    {
      "cell_type": "code",
      "execution_count": 9,
      "metadata": {},
      "outputs": [
        {
          "data": {
            "text/html": [
              "<div>\n",
              "<style scoped>\n",
              "    .dataframe tbody tr th:only-of-type {\n",
              "        vertical-align: middle;\n",
              "    }\n",
              "\n",
              "    .dataframe tbody tr th {\n",
              "        vertical-align: top;\n",
              "    }\n",
              "\n",
              "    .dataframe thead th {\n",
              "        text-align: right;\n",
              "    }\n",
              "</style>\n",
              "<table border=\"1\" class=\"dataframe\">\n",
              "  <thead>\n",
              "    <tr style=\"text-align: right;\">\n",
              "      <th></th>\n",
              "      <th>algoritm</th>\n",
              "      <th>prop_scale</th>\n",
              "      <th>accuracy</th>\n",
              "      <th>auc</th>\n",
              "      <th>n_amino_acids</th>\n",
              "      <th>test_size</th>\n",
              "    </tr>\n",
              "  </thead>\n",
              "  <tbody>\n",
              "    <tr>\n",
              "      <th>0</th>\n",
              "      <td>vqc</td>\n",
              "      <td>Kyte-Doolittle</td>\n",
              "      <td>0.500000</td>\n",
              "      <td>0.5</td>\n",
              "      <td>1</td>\n",
              "      <td>0.1</td>\n",
              "    </tr>\n",
              "    <tr>\n",
              "      <th>1</th>\n",
              "      <td>pegasos_svc</td>\n",
              "      <td>Hopp-Woods</td>\n",
              "      <td>0.250000</td>\n",
              "      <td>0.5</td>\n",
              "      <td>1</td>\n",
              "      <td>0.1</td>\n",
              "    </tr>\n",
              "    <tr>\n",
              "      <th>2</th>\n",
              "      <td>qsvc</td>\n",
              "      <td>Cornette</td>\n",
              "      <td>0.250000</td>\n",
              "      <td>0.5</td>\n",
              "      <td>1</td>\n",
              "      <td>0.1</td>\n",
              "    </tr>\n",
              "    <tr>\n",
              "      <th>3</th>\n",
              "      <td>vqc</td>\n",
              "      <td>Eisenberg</td>\n",
              "      <td>0.333333</td>\n",
              "      <td>0.3</td>\n",
              "      <td>1</td>\n",
              "      <td>0.2</td>\n",
              "    </tr>\n",
              "    <tr>\n",
              "      <th>4</th>\n",
              "      <td>pegasos_svc</td>\n",
              "      <td>Rose</td>\n",
              "      <td>0.333333</td>\n",
              "      <td>0.5</td>\n",
              "      <td>1</td>\n",
              "      <td>0.2</td>\n",
              "    </tr>\n",
              "    <tr>\n",
              "      <th>...</th>\n",
              "      <td>...</td>\n",
              "      <td>...</td>\n",
              "      <td>...</td>\n",
              "      <td>...</td>\n",
              "      <td>...</td>\n",
              "      <td>...</td>\n",
              "    </tr>\n",
              "    <tr>\n",
              "      <th>58</th>\n",
              "      <td>pegasos_svc</td>\n",
              "      <td>Cornette</td>\n",
              "      <td>0.000000</td>\n",
              "      <td>0.0</td>\n",
              "      <td>1</td>\n",
              "      <td>0.2</td>\n",
              "    </tr>\n",
              "    <tr>\n",
              "      <th>59</th>\n",
              "      <td>qsvc</td>\n",
              "      <td>Eisenberg</td>\n",
              "      <td>0.000000</td>\n",
              "      <td>0.0</td>\n",
              "      <td>1</td>\n",
              "      <td>0.2</td>\n",
              "    </tr>\n",
              "    <tr>\n",
              "      <th>60</th>\n",
              "      <td>vqc</td>\n",
              "      <td>Rose</td>\n",
              "      <td>0.000000</td>\n",
              "      <td>0.0</td>\n",
              "      <td>1</td>\n",
              "      <td>0.3</td>\n",
              "    </tr>\n",
              "    <tr>\n",
              "      <th>61</th>\n",
              "      <td>pegasos_svc</td>\n",
              "      <td>Janin</td>\n",
              "      <td>0.000000</td>\n",
              "      <td>0.0</td>\n",
              "      <td>1</td>\n",
              "      <td>0.3</td>\n",
              "    </tr>\n",
              "    <tr>\n",
              "      <th>62</th>\n",
              "      <td>qsvc</td>\n",
              "      <td>Engelman GES</td>\n",
              "      <td>0.000000</td>\n",
              "      <td>0.0</td>\n",
              "      <td>1</td>\n",
              "      <td>0.3</td>\n",
              "    </tr>\n",
              "  </tbody>\n",
              "</table>\n",
              "<p>63 rows × 6 columns</p>\n",
              "</div>"
            ],
            "text/plain": [
              "       algoritm      prop_scale  accuracy  auc  n_amino_acids  test_size\n",
              "0           vqc  Kyte-Doolittle  0.500000  0.5              1        0.1\n",
              "1   pegasos_svc      Hopp-Woods  0.250000  0.5              1        0.1\n",
              "2          qsvc        Cornette  0.250000  0.5              1        0.1\n",
              "3           vqc       Eisenberg  0.333333  0.3              1        0.2\n",
              "4   pegasos_svc            Rose  0.333333  0.5              1        0.2\n",
              "..          ...             ...       ...  ...            ...        ...\n",
              "58  pegasos_svc        Cornette  0.000000  0.0              1        0.2\n",
              "59         qsvc       Eisenberg  0.000000  0.0              1        0.2\n",
              "60          vqc            Rose  0.000000  0.0              1        0.3\n",
              "61  pegasos_svc           Janin  0.000000  0.0              1        0.3\n",
              "62         qsvc    Engelman GES  0.000000  0.0              1        0.3\n",
              "\n",
              "[63 rows x 6 columns]"
            ]
          },
          "execution_count": 9,
          "metadata": {},
          "output_type": "execute_result"
        }
      ],
      "source": [
        "dtest"
      ]
    },
    {
      "cell_type": "code",
      "execution_count": 10,
      "metadata": {
        "id": "VlDErLMr3mQh"
      },
      "outputs": [],
      "source": [
        "begin = dtest[dtest['accuracy'] == 0.00]"
      ]
    },
    {
      "cell_type": "code",
      "execution_count": 11,
      "metadata": {
        "colab": {
          "base_uri": "https://localhost:8080/"
        },
        "id": "QuASLsev3mQi",
        "outputId": "9caacb86-5969-4bad-d3bd-9f9af98054cc"
      },
      "outputs": [
        {
          "data": {
            "text/plain": [
              "22"
            ]
          },
          "execution_count": 11,
          "metadata": {},
          "output_type": "execute_result"
        }
      ],
      "source": [
        "begin.index[0]"
      ]
    },
    {
      "cell_type": "code",
      "execution_count": 12,
      "metadata": {
        "colab": {
          "base_uri": "https://localhost:8080/"
        },
        "id": "FtgOWxdB3mQj",
        "outputId": "52d2187c-7912-4f11-d90b-9296fda847fb"
      },
      "outputs": [
        {
          "name": "stderr",
          "output_type": "stream",
          "text": [
            "C:\\Users\\herutriana44\\AppData\\Local\\Temp\\ipykernel_3672\\2504918416.py:19: SettingWithCopyWarning: \n",
            "A value is trying to be set on a copy of a slice from a DataFrame\n",
            "\n",
            "See the caveats in the documentation: https://pandas.pydata.org/pandas-docs/stable/user_guide/indexing.html#returning-a-view-versus-a-copy\n",
            "  dtest['accuracy'][i] = acc\n",
            "C:\\Users\\herutriana44\\AppData\\Local\\Temp\\ipykernel_3672\\2504918416.py:20: SettingWithCopyWarning: \n",
            "A value is trying to be set on a copy of a slice from a DataFrame\n",
            "\n",
            "See the caveats in the documentation: https://pandas.pydata.org/pandas-docs/stable/user_guide/indexing.html#returning-a-view-versus-a-copy\n",
            "  dtest['auc'][i] = auc\n"
          ]
        },
        {
          "name": "stdout",
          "output_type": "stream",
          "text": [
            "Acc = 0.3333333333333333; AUC = 0.5\n"
          ]
        },
        {
          "name": "stderr",
          "output_type": "stream",
          "text": [
            "C:\\Users\\herutriana44\\AppData\\Local\\Temp\\ipykernel_3672\\2504918416.py:19: SettingWithCopyWarning: \n",
            "A value is trying to be set on a copy of a slice from a DataFrame\n",
            "\n",
            "See the caveats in the documentation: https://pandas.pydata.org/pandas-docs/stable/user_guide/indexing.html#returning-a-view-versus-a-copy\n",
            "  dtest['accuracy'][i] = acc\n",
            "C:\\Users\\herutriana44\\AppData\\Local\\Temp\\ipykernel_3672\\2504918416.py:20: SettingWithCopyWarning: \n",
            "A value is trying to be set on a copy of a slice from a DataFrame\n",
            "\n",
            "See the caveats in the documentation: https://pandas.pydata.org/pandas-docs/stable/user_guide/indexing.html#returning-a-view-versus-a-copy\n",
            "  dtest['auc'][i] = auc\n",
            "c:\\Users\\herutriana44\\AppData\\Local\\Programs\\Python\\Python311\\Lib\\site-packages\\sklearn\\preprocessing\\_encoders.py:868: FutureWarning: `sparse` was renamed to `sparse_output` in version 1.2 and will be removed in 1.4. `sparse_output` is ignored unless you leave `sparse` to its default value.\n",
            "  warnings.warn(\n"
          ]
        },
        {
          "name": "stdout",
          "output_type": "stream",
          "text": [
            "Acc = 0.4666666666666667; AUC = 0.55\n"
          ]
        },
        {
          "name": "stderr",
          "output_type": "stream",
          "text": [
            "C:\\Users\\herutriana44\\AppData\\Local\\Temp\\ipykernel_3672\\2504918416.py:19: SettingWithCopyWarning: \n",
            "A value is trying to be set on a copy of a slice from a DataFrame\n",
            "\n",
            "See the caveats in the documentation: https://pandas.pydata.org/pandas-docs/stable/user_guide/indexing.html#returning-a-view-versus-a-copy\n",
            "  dtest['accuracy'][i] = acc\n",
            "C:\\Users\\herutriana44\\AppData\\Local\\Temp\\ipykernel_3672\\2504918416.py:20: SettingWithCopyWarning: \n",
            "A value is trying to be set on a copy of a slice from a DataFrame\n",
            "\n",
            "See the caveats in the documentation: https://pandas.pydata.org/pandas-docs/stable/user_guide/indexing.html#returning-a-view-versus-a-copy\n",
            "  dtest['auc'][i] = auc\n"
          ]
        },
        {
          "name": "stdout",
          "output_type": "stream",
          "text": [
            "Acc = 0.6363636363636364; AUC = 0.6068376068376068\n"
          ]
        },
        {
          "name": "stderr",
          "output_type": "stream",
          "text": [
            "C:\\Users\\herutriana44\\AppData\\Local\\Temp\\ipykernel_3672\\2504918416.py:19: SettingWithCopyWarning: \n",
            "A value is trying to be set on a copy of a slice from a DataFrame\n",
            "\n",
            "See the caveats in the documentation: https://pandas.pydata.org/pandas-docs/stable/user_guide/indexing.html#returning-a-view-versus-a-copy\n",
            "  dtest['accuracy'][i] = acc\n",
            "C:\\Users\\herutriana44\\AppData\\Local\\Temp\\ipykernel_3672\\2504918416.py:20: SettingWithCopyWarning: \n",
            "A value is trying to be set on a copy of a slice from a DataFrame\n",
            "\n",
            "See the caveats in the documentation: https://pandas.pydata.org/pandas-docs/stable/user_guide/indexing.html#returning-a-view-versus-a-copy\n",
            "  dtest['auc'][i] = auc\n"
          ]
        },
        {
          "name": "stdout",
          "output_type": "stream",
          "text": [
            "Acc = 0.4090909090909091; AUC = 0.5\n"
          ]
        },
        {
          "name": "stderr",
          "output_type": "stream",
          "text": [
            "C:\\Users\\herutriana44\\AppData\\Local\\Temp\\ipykernel_3672\\2504918416.py:19: SettingWithCopyWarning: \n",
            "A value is trying to be set on a copy of a slice from a DataFrame\n",
            "\n",
            "See the caveats in the documentation: https://pandas.pydata.org/pandas-docs/stable/user_guide/indexing.html#returning-a-view-versus-a-copy\n",
            "  dtest['accuracy'][i] = acc\n",
            "C:\\Users\\herutriana44\\AppData\\Local\\Temp\\ipykernel_3672\\2504918416.py:20: SettingWithCopyWarning: \n",
            "A value is trying to be set on a copy of a slice from a DataFrame\n",
            "\n",
            "See the caveats in the documentation: https://pandas.pydata.org/pandas-docs/stable/user_guide/indexing.html#returning-a-view-versus-a-copy\n",
            "  dtest['auc'][i] = auc\n",
            "c:\\Users\\herutriana44\\AppData\\Local\\Programs\\Python\\Python311\\Lib\\site-packages\\sklearn\\preprocessing\\_encoders.py:868: FutureWarning: `sparse` was renamed to `sparse_output` in version 1.2 and will be removed in 1.4. `sparse_output` is ignored unless you leave `sparse` to its default value.\n",
            "  warnings.warn(\n"
          ]
        },
        {
          "name": "stdout",
          "output_type": "stream",
          "text": [
            "Acc = 0.3181818181818182; AUC = 0.30341880341880345\n"
          ]
        },
        {
          "name": "stderr",
          "output_type": "stream",
          "text": [
            "C:\\Users\\herutriana44\\AppData\\Local\\Temp\\ipykernel_3672\\2504918416.py:19: SettingWithCopyWarning: \n",
            "A value is trying to be set on a copy of a slice from a DataFrame\n",
            "\n",
            "See the caveats in the documentation: https://pandas.pydata.org/pandas-docs/stable/user_guide/indexing.html#returning-a-view-versus-a-copy\n",
            "  dtest['accuracy'][i] = acc\n",
            "C:\\Users\\herutriana44\\AppData\\Local\\Temp\\ipykernel_3672\\2504918416.py:20: SettingWithCopyWarning: \n",
            "A value is trying to be set on a copy of a slice from a DataFrame\n",
            "\n",
            "See the caveats in the documentation: https://pandas.pydata.org/pandas-docs/stable/user_guide/indexing.html#returning-a-view-versus-a-copy\n",
            "  dtest['auc'][i] = auc\n"
          ]
        },
        {
          "name": "stdout",
          "output_type": "stream",
          "text": [
            "Acc = 0.625; AUC = 0.5833333333333334\n"
          ]
        },
        {
          "name": "stderr",
          "output_type": "stream",
          "text": [
            "C:\\Users\\herutriana44\\AppData\\Local\\Temp\\ipykernel_3672\\2504918416.py:19: SettingWithCopyWarning: \n",
            "A value is trying to be set on a copy of a slice from a DataFrame\n",
            "\n",
            "See the caveats in the documentation: https://pandas.pydata.org/pandas-docs/stable/user_guide/indexing.html#returning-a-view-versus-a-copy\n",
            "  dtest['accuracy'][i] = acc\n",
            "C:\\Users\\herutriana44\\AppData\\Local\\Temp\\ipykernel_3672\\2504918416.py:20: SettingWithCopyWarning: \n",
            "A value is trying to be set on a copy of a slice from a DataFrame\n",
            "\n",
            "See the caveats in the documentation: https://pandas.pydata.org/pandas-docs/stable/user_guide/indexing.html#returning-a-view-versus-a-copy\n",
            "  dtest['auc'][i] = auc\n"
          ]
        },
        {
          "name": "stdout",
          "output_type": "stream",
          "text": [
            "Acc = 0.25; AUC = 0.5\n"
          ]
        },
        {
          "name": "stderr",
          "output_type": "stream",
          "text": [
            "C:\\Users\\herutriana44\\AppData\\Local\\Temp\\ipykernel_3672\\2504918416.py:19: SettingWithCopyWarning: \n",
            "A value is trying to be set on a copy of a slice from a DataFrame\n",
            "\n",
            "See the caveats in the documentation: https://pandas.pydata.org/pandas-docs/stable/user_guide/indexing.html#returning-a-view-versus-a-copy\n",
            "  dtest['accuracy'][i] = acc\n",
            "C:\\Users\\herutriana44\\AppData\\Local\\Temp\\ipykernel_3672\\2504918416.py:20: SettingWithCopyWarning: \n",
            "A value is trying to be set on a copy of a slice from a DataFrame\n",
            "\n",
            "See the caveats in the documentation: https://pandas.pydata.org/pandas-docs/stable/user_guide/indexing.html#returning-a-view-versus-a-copy\n",
            "  dtest['auc'][i] = auc\n",
            "c:\\Users\\herutriana44\\AppData\\Local\\Programs\\Python\\Python311\\Lib\\site-packages\\sklearn\\preprocessing\\_encoders.py:868: FutureWarning: `sparse` was renamed to `sparse_output` in version 1.2 and will be removed in 1.4. `sparse_output` is ignored unless you leave `sparse` to its default value.\n",
            "  warnings.warn(\n"
          ]
        },
        {
          "name": "stdout",
          "output_type": "stream",
          "text": [
            "Acc = 0.5; AUC = 0.6666666666666667\n"
          ]
        },
        {
          "name": "stderr",
          "output_type": "stream",
          "text": [
            "C:\\Users\\herutriana44\\AppData\\Local\\Temp\\ipykernel_3672\\2504918416.py:19: SettingWithCopyWarning: \n",
            "A value is trying to be set on a copy of a slice from a DataFrame\n",
            "\n",
            "See the caveats in the documentation: https://pandas.pydata.org/pandas-docs/stable/user_guide/indexing.html#returning-a-view-versus-a-copy\n",
            "  dtest['accuracy'][i] = acc\n",
            "C:\\Users\\herutriana44\\AppData\\Local\\Temp\\ipykernel_3672\\2504918416.py:20: SettingWithCopyWarning: \n",
            "A value is trying to be set on a copy of a slice from a DataFrame\n",
            "\n",
            "See the caveats in the documentation: https://pandas.pydata.org/pandas-docs/stable/user_guide/indexing.html#returning-a-view-versus-a-copy\n",
            "  dtest['auc'][i] = auc\n"
          ]
        },
        {
          "name": "stdout",
          "output_type": "stream",
          "text": [
            "Acc = 0.7333333333333333; AUC = 0.7000000000000002\n"
          ]
        },
        {
          "name": "stderr",
          "output_type": "stream",
          "text": [
            "C:\\Users\\herutriana44\\AppData\\Local\\Temp\\ipykernel_3672\\2504918416.py:19: SettingWithCopyWarning: \n",
            "A value is trying to be set on a copy of a slice from a DataFrame\n",
            "\n",
            "See the caveats in the documentation: https://pandas.pydata.org/pandas-docs/stable/user_guide/indexing.html#returning-a-view-versus-a-copy\n",
            "  dtest['accuracy'][i] = acc\n",
            "C:\\Users\\herutriana44\\AppData\\Local\\Temp\\ipykernel_3672\\2504918416.py:20: SettingWithCopyWarning: \n",
            "A value is trying to be set on a copy of a slice from a DataFrame\n",
            "\n",
            "See the caveats in the documentation: https://pandas.pydata.org/pandas-docs/stable/user_guide/indexing.html#returning-a-view-versus-a-copy\n",
            "  dtest['auc'][i] = auc\n"
          ]
        },
        {
          "name": "stdout",
          "output_type": "stream",
          "text": [
            "Acc = 0.3333333333333333; AUC = 0.5\n"
          ]
        },
        {
          "name": "stderr",
          "output_type": "stream",
          "text": [
            "C:\\Users\\herutriana44\\AppData\\Local\\Temp\\ipykernel_3672\\2504918416.py:19: SettingWithCopyWarning: \n",
            "A value is trying to be set on a copy of a slice from a DataFrame\n",
            "\n",
            "See the caveats in the documentation: https://pandas.pydata.org/pandas-docs/stable/user_guide/indexing.html#returning-a-view-versus-a-copy\n",
            "  dtest['accuracy'][i] = acc\n",
            "C:\\Users\\herutriana44\\AppData\\Local\\Temp\\ipykernel_3672\\2504918416.py:20: SettingWithCopyWarning: \n",
            "A value is trying to be set on a copy of a slice from a DataFrame\n",
            "\n",
            "See the caveats in the documentation: https://pandas.pydata.org/pandas-docs/stable/user_guide/indexing.html#returning-a-view-versus-a-copy\n",
            "  dtest['auc'][i] = auc\n",
            "c:\\Users\\herutriana44\\AppData\\Local\\Programs\\Python\\Python311\\Lib\\site-packages\\sklearn\\preprocessing\\_encoders.py:868: FutureWarning: `sparse` was renamed to `sparse_output` in version 1.2 and will be removed in 1.4. `sparse_output` is ignored unless you leave `sparse` to its default value.\n",
            "  warnings.warn(\n"
          ]
        },
        {
          "name": "stdout",
          "output_type": "stream",
          "text": [
            "Acc = 0.4; AUC = 0.5\n"
          ]
        },
        {
          "name": "stderr",
          "output_type": "stream",
          "text": [
            "C:\\Users\\herutriana44\\AppData\\Local\\Temp\\ipykernel_3672\\2504918416.py:19: SettingWithCopyWarning: \n",
            "A value is trying to be set on a copy of a slice from a DataFrame\n",
            "\n",
            "See the caveats in the documentation: https://pandas.pydata.org/pandas-docs/stable/user_guide/indexing.html#returning-a-view-versus-a-copy\n",
            "  dtest['accuracy'][i] = acc\n",
            "C:\\Users\\herutriana44\\AppData\\Local\\Temp\\ipykernel_3672\\2504918416.py:20: SettingWithCopyWarning: \n",
            "A value is trying to be set on a copy of a slice from a DataFrame\n",
            "\n",
            "See the caveats in the documentation: https://pandas.pydata.org/pandas-docs/stable/user_guide/indexing.html#returning-a-view-versus-a-copy\n",
            "  dtest['auc'][i] = auc\n"
          ]
        },
        {
          "name": "stdout",
          "output_type": "stream",
          "text": [
            "Acc = 0.5909090909090909; AUC = 0.6025641025641025\n"
          ]
        },
        {
          "name": "stderr",
          "output_type": "stream",
          "text": [
            "C:\\Users\\herutriana44\\AppData\\Local\\Temp\\ipykernel_3672\\2504918416.py:19: SettingWithCopyWarning: \n",
            "A value is trying to be set on a copy of a slice from a DataFrame\n",
            "\n",
            "See the caveats in the documentation: https://pandas.pydata.org/pandas-docs/stable/user_guide/indexing.html#returning-a-view-versus-a-copy\n",
            "  dtest['accuracy'][i] = acc\n",
            "C:\\Users\\herutriana44\\AppData\\Local\\Temp\\ipykernel_3672\\2504918416.py:20: SettingWithCopyWarning: \n",
            "A value is trying to be set on a copy of a slice from a DataFrame\n",
            "\n",
            "See the caveats in the documentation: https://pandas.pydata.org/pandas-docs/stable/user_guide/indexing.html#returning-a-view-versus-a-copy\n",
            "  dtest['auc'][i] = auc\n"
          ]
        },
        {
          "name": "stdout",
          "output_type": "stream",
          "text": [
            "Acc = 0.4090909090909091; AUC = 0.5\n",
            "Acc = 0.5909090909090909; AUC = 0.6025641025641025\n"
          ]
        },
        {
          "name": "stderr",
          "output_type": "stream",
          "text": [
            "C:\\Users\\herutriana44\\AppData\\Local\\Temp\\ipykernel_3672\\2504918416.py:19: SettingWithCopyWarning: \n",
            "A value is trying to be set on a copy of a slice from a DataFrame\n",
            "\n",
            "See the caveats in the documentation: https://pandas.pydata.org/pandas-docs/stable/user_guide/indexing.html#returning-a-view-versus-a-copy\n",
            "  dtest['accuracy'][i] = acc\n",
            "C:\\Users\\herutriana44\\AppData\\Local\\Temp\\ipykernel_3672\\2504918416.py:20: SettingWithCopyWarning: \n",
            "A value is trying to be set on a copy of a slice from a DataFrame\n",
            "\n",
            "See the caveats in the documentation: https://pandas.pydata.org/pandas-docs/stable/user_guide/indexing.html#returning-a-view-versus-a-copy\n",
            "  dtest['auc'][i] = auc\n"
          ]
        }
      ],
      "source": [
        "y = 'label'\n",
        "for i in range(begin.index[0], len(dtest)):\n",
        "    X = ['Position', 'length sequence']\n",
        "\n",
        "    if dtest['algoritm'][i] == 'vqc':\n",
        "        X.append(dtest['prop_scale'][i])\n",
        "        acc, auc = train_vqc(df1, X, y, dtest['test_size'][i])\n",
        "\n",
        "    if dtest['algoritm'][i] == 'pegasos_svc':\n",
        "        X.append(dtest['prop_scale'][i])\n",
        "        acc, auc = train_pegasos_svc(df1, X, y, dtest['test_size'][i])\n",
        "\n",
        "    if dtest['algoritm'][i] == 'qsvc':\n",
        "        X.append(dtest['prop_scale'][i])\n",
        "        acc, auc = train_qsvc(df1, X, y, dtest['test_size'][i])\n",
        "\n",
        "    # Add more conditions for other algorithms as needed\n",
        "\n",
        "    dtest['accuracy'][i] = acc\n",
        "    dtest['auc'][i] = auc\n",
        "\n",
        "    print(f\"Acc = {acc}; AUC = {auc}\")\n",
        "\n",
        "    dtest.to_csv('result_of_quantum_classification_covid.csv', index=False)"
      ]
    }
  ],
  "metadata": {
    "accelerator": "GPU",
    "colab": {
      "gpuType": "T4",
      "provenance": []
    },
    "kernelspec": {
      "display_name": "Python 3",
      "name": "python3"
    },
    "language_info": {
      "codemirror_mode": {
        "name": "ipython",
        "version": 3
      },
      "file_extension": ".py",
      "mimetype": "text/x-python",
      "name": "python",
      "nbconvert_exporter": "python",
      "pygments_lexer": "ipython3",
      "version": "3.11.4"
    },
    "orig_nbformat": 4
  },
  "nbformat": 4,
  "nbformat_minor": 0
}
